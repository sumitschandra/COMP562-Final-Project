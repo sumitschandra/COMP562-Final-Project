{
 "cells": [
  {
   "cell_type": "markdown",
   "metadata": {},
   "source": [
    "# COMP 526 Final Project"
   ]
  },
  {
   "cell_type": "code",
   "execution_count": 1,
   "metadata": {
    "collapsed": true
   },
   "outputs": [],
   "source": [
    "# Project Members: Dhru Patel, Austin Joiner, Chris Leonard, Sumit Chandra"
   ]
  },
  {
   "cell_type": "markdown",
   "metadata": {},
   "source": [
    "# Import Dataset and Pre-Process Data"
   ]
  },
  {
   "cell_type": "code",
   "execution_count": 2,
   "metadata": {
    "collapsed": true
   },
   "outputs": [],
   "source": [
    "#Important Required Packages\n",
    "import pandas as pd\n",
    "import numpy as np\n",
    "import seaborn as sns\n",
    "import matplotlib.pyplot as plt\n",
    "from sklearn.ensemble import RandomForestClassifier\n",
    "from sklearn.svm import SVC\n",
    "from sklearn import svm\n",
    "from sklearn.neural_network import MLPClassifier\n",
    "from sklearn.metrics import confusion_matrix, classification_report\n",
    "from sklearn.preprocessing import StandardScaler, LabelEncoder\n",
    "from sklearn.model_selection import train_test_split\n",
    "from mlxtend.plotting import plot_decision_regions\n",
    "%matplotlib inline"
   ]
  },
  {
   "cell_type": "code",
   "execution_count": 3,
   "metadata": {},
   "outputs": [
    {
     "name": "stdout",
     "output_type": "stream",
     "text": [
      "<class 'pandas.core.frame.DataFrame'>\n",
      "Int64Index: 422 entries, 0 to 489\n",
      "Data columns (total 35 columns):\n",
      "Name            422 non-null object\n",
      "Games Played    422 non-null int64\n",
      "MIN             422 non-null int64\n",
      "PTS             422 non-null int64\n",
      "FGM             422 non-null int64\n",
      "FGA             422 non-null int64\n",
      "FG%             422 non-null float64\n",
      "3PM             422 non-null int64\n",
      "3PA             422 non-null int64\n",
      "3P%             422 non-null float64\n",
      "FTM             422 non-null int64\n",
      "FTA             422 non-null int64\n",
      "FT%             422 non-null float64\n",
      "OREB            422 non-null int64\n",
      "DREB            422 non-null int64\n",
      "REB             422 non-null int64\n",
      "AST             422 non-null int64\n",
      "STL             422 non-null int64\n",
      "BLK             422 non-null int64\n",
      "TOV             422 non-null int64\n",
      "PF              422 non-null int64\n",
      "EFF             422 non-null int64\n",
      "AST/TOV         422 non-null float64\n",
      "STL/TOV         422 non-null float64\n",
      "Age             422 non-null float64\n",
      "Birth_Place     422 non-null object\n",
      "Birthdate       422 non-null object\n",
      "Collage         350 non-null object\n",
      "Experience      422 non-null object\n",
      "Height          422 non-null int64\n",
      "Pos             422 non-null object\n",
      "Team            422 non-null object\n",
      "Weight          422 non-null int64\n",
      "BMI             422 non-null float64\n",
      "Position        422 non-null float64\n",
      "dtypes: float64(8), int64(20), object(7)\n",
      "memory usage: 118.7+ KB\n"
     ]
    }
   ],
   "source": [
    "#Get DataSet and Pre-Process Data\n",
    "ball = pd.read_csv('players_stats.csv', sep=',')\n",
    "\n",
    "ball.loc[ball['Pos'] == 'PG', 'Position'] = 1\n",
    "ball.loc[ball['Pos'] == 'SG', 'Position'] = 2\n",
    "ball.loc[ball['Pos'] == 'SF', 'Position'] = 3\n",
    "ball.loc[ball['Pos'] == 'PF', 'Position'] = 4\n",
    "ball.loc[ball['Pos'] == 'C', 'Position'] = 5\n",
    "ball = ball[pd.notnull(ball['Position'])]\n",
    "\n",
    "ball['Height'] = ball['Height'].astype(int)\n",
    "ball['Weight'] = ball['Weight'].astype(int)\n",
    "\n",
    "ball.head()\n",
    "ball.info()\n"
   ]
  },
  {
   "cell_type": "code",
   "execution_count": 4,
   "metadata": {},
   "outputs": [
    {
     "data": {
      "text/plain": [
       "0"
      ]
     },
     "execution_count": 4,
     "metadata": {},
     "output_type": "execute_result"
    }
   ],
   "source": [
    "#Seperate dataset as response and feature variables\n",
    "#Data Set for only Height and Weight as Features\n",
    "X = ball.drop(['Pos', 'Collage', 'Birthdate', 'Birth_Place', 'Team', 'Name', 'Age', 'Experience', 'BMI', 'FG%', '3P%', 'FT%', 'AST/TOV','STL/TOV', 'Position', 'Games Played', 'MIN', 'PTS', 'FGM', 'FGA', '3PM', '3PA', 'FTM', 'FTA', 'OREB', 'DREB', 'REB', 'AST', 'STL', 'BLK', 'TOV', 'PF', 'EFF'], axis=1)\n",
    "#Data Set for All Stats except non-integer values\n",
    "#X = ball.drop(['Pos', 'Collage', 'Birthdate', 'Birth_Place', 'Team', 'Name', 'Age', 'Experience', 'BMI', 'FG%', '3P%', 'FT%', 'AST/TOV','STL/TOV', 'Position', 'Games Played', 'MIN'], axis=1)\n",
    "#X = ball.loc[ball['Height', 'Weight']]\n",
    "y = ball['Position']\n",
    "\n",
    "\n",
    "#Checking Nulls\n",
    "X.isnull().sum()\n",
    "y.isnull().sum()\n"
   ]
  },
  {
   "cell_type": "code",
   "execution_count": 5,
   "metadata": {},
   "outputs": [
    {
     "data": {
      "text/plain": [
       "((85, 2), (337, 2), (337,), (85,))"
      ]
     },
     "execution_count": 5,
     "metadata": {},
     "output_type": "execute_result"
    }
   ],
   "source": [
    "#Train and Test splitting of data\n",
    "X_train, X_test, y_train, y_test = train_test_split(X, y, test_size = .2, random_state = 42)\n",
    "#Check Shape of Data \n",
    "X_test.shape,X_train.shape, y_train.shape, y_test.shape\n",
    "\n"
   ]
  },
  {
   "cell_type": "code",
   "execution_count": 6,
   "metadata": {},
   "outputs": [
    {
     "name": "stderr",
     "output_type": "stream",
     "text": [
      "/anaconda2/envs/comp521/lib/python3.7/site-packages/sklearn/preprocessing/data.py:645: DataConversionWarning: Data with input dtype int64 were all converted to float64 by StandardScaler.\n",
      "  return self.partial_fit(X, y)\n",
      "/anaconda2/envs/comp521/lib/python3.7/site-packages/sklearn/base.py:464: DataConversionWarning: Data with input dtype int64 were all converted to float64 by StandardScaler.\n",
      "  return self.fit(X, **fit_params).transform(X)\n",
      "/anaconda2/envs/comp521/lib/python3.7/site-packages/ipykernel_launcher.py:4: DataConversionWarning: Data with input dtype int64 were all converted to float64 by StandardScaler.\n",
      "  after removing the cwd from sys.path.\n"
     ]
    }
   ],
   "source": [
    "#Apply standard scaleing to get optimized result\n",
    "sc = StandardScaler()\n",
    "X_train  = sc.fit_transform(X_train)\n",
    "X_test = sc.transform(X_test)\n"
   ]
  },
  {
   "cell_type": "markdown",
   "metadata": {},
   "source": []
  },
  {
   "cell_type": "markdown",
   "metadata": {},
   "source": [
    "# Random Forest Classifier"
   ]
  },
  {
   "cell_type": "code",
   "execution_count": 7,
   "metadata": {
    "collapsed": true
   },
   "outputs": [],
   "source": [
    "#Random Forest Classifier\n",
    "\n",
    "rfc = RandomForestClassifier(n_estimators=200)\n",
    "rfc.fit(X_train, y_train)\n",
    "pred_rfc = rfc.predict(X_test)\n",
    "\n",
    "def plot_confusion_matrix(y_test, pred_rfc,\n",
    "                          normalize=False,\n",
    "                          title=None,\n",
    "                          cmap=plt.cm.Blues):\n",
    "    \"\"\"\n",
    "    This function prints and plots the confusion matrix.\n",
    "    Normalization can be applied by setting `normalize=True`.\n",
    "    \"\"\"\n",
    "    if not title:\n",
    "        if normalize:\n",
    "            title = 'Normalized confusion matrix'\n",
    "        else:\n",
    "            title = 'Confusion matrix, without normalization'\n",
    "\n",
    "    # Compute confusion matrix\n",
    "    cm = confusion_matrix(y_test, pred_rfc)\n",
    "    # Only use the labels that appear in the data\n",
    "   \n",
    "    if normalize:\n",
    "        cm = cm.astype('float') / cm.sum(axis=1)[:, np.newaxis]\n",
    "        print(\"Normalized confusion matrix\")\n",
    "    else:\n",
    "        print('Confusion matrix, without normalization')\n",
    "\n",
    "    print(cm)\n",
    "\n",
    "    fig, ax = plt.subplots()\n",
    "    im = ax.imshow(cm, interpolation='nearest', cmap=cmap)\n",
    "    ax.figure.colorbar(im, ax=ax)\n",
    "    # We want to show all ticks...\n",
    "    ax.set(xticks=np.arange(cm.shape[1]),\n",
    "           yticks=np.arange(cm.shape[0]),\n",
    "           # ... and label them with the respective list entries\n",
    "           \n",
    "           title=title,\n",
    "           ylabel='True label',\n",
    "           xlabel='Predicted label')\n",
    "\n",
    "\n",
    "\n",
    "    # Loop over data dimensions and create text annotations.\n",
    "    fmt = '.2f' if normalize else 'd'\n",
    "    thresh = cm.max() / 2.\n",
    "    for i in range(cm.shape[0]):\n",
    "        for j in range(cm.shape[1]):\n",
    "            ax.text(j, i, format(cm[i, j], fmt),\n",
    "                    ha=\"center\", va=\"center\",\n",
    "                    color=\"white\" if cm[i, j] > thresh else \"black\")\n",
    "    fig.tight_layout()\n",
    "    return ax\n"
   ]
  },
  {
   "cell_type": "code",
   "execution_count": 8,
   "metadata": {},
   "outputs": [
    {
     "name": "stdout",
     "output_type": "stream",
     "text": [
      "Confusion matrix, without normalization\n",
      "[[12  5  0  0  0]\n",
      " [ 4 13  3  0  0]\n",
      " [ 0  4  7  1  0]\n",
      " [ 0  0  5 11  6]\n",
      " [ 0  0  1  5  8]]\n",
      "Normalized confusion matrix\n",
      "[[0.70588235 0.29411765 0.         0.         0.        ]\n",
      " [0.2        0.65       0.15       0.         0.        ]\n",
      " [0.         0.33333333 0.58333333 0.08333333 0.        ]\n",
      " [0.         0.         0.22727273 0.5        0.27272727]\n",
      " [0.         0.         0.07142857 0.35714286 0.57142857]]\n",
      "              precision    recall  f1-score   support\n",
      "\n",
      "         1.0       0.75      0.71      0.73        17\n",
      "         2.0       0.59      0.65      0.62        20\n",
      "         3.0       0.44      0.58      0.50        12\n",
      "         4.0       0.65      0.50      0.56        22\n",
      "         5.0       0.57      0.57      0.57        14\n",
      "\n",
      "   micro avg       0.60      0.60      0.60        85\n",
      "   macro avg       0.60      0.60      0.60        85\n",
      "weighted avg       0.61      0.60      0.60        85\n",
      "\n",
      "[[12  5  0  0  0]\n",
      " [ 4 13  3  0  0]\n",
      " [ 0  4  7  1  0]\n",
      " [ 0  0  5 11  6]\n",
      " [ 0  0  1  5  8]]\n"
     ]
    },
    {
     "data": {
      "image/png": "[encoded data removed]",
      "text/plain": [
       "<Figure size 432x288 with 2 Axes>"
      ]
     },
     "metadata": {
      "needs_background": "light"
     },
     "output_type": "display_data"
    },
    {
     "data": {
      "image/png": "[encoded data removed]",
      "text/plain": [
       "<Figure size 432x288 with 2 Axes>"
      ]
     },
     "metadata": {
      "needs_background": "light"
     },
     "output_type": "display_data"
    }
   ],
   "source": [
    "plot_confusion_matrix(y_test, pred_rfc,\n",
    "                      title='Confusion matrix, without normalization')\n",
    "plot_confusion_matrix(y_test, pred_rfc, normalize=True,\n",
    "                      title='Normalized confusion matrix')\n",
    "print(classification_report(y_test, pred_rfc))\n",
    "print(confusion_matrix(y_test, pred_rfc))"
   ]
  },
  {
   "cell_type": "markdown",
   "metadata": {},
   "source": [
    "# SVM Classifier"
   ]
  },
  {
   "cell_type": "code",
   "execution_count": 11,
   "metadata": {},
   "outputs": [
    {
     "ename": "AttributeError",
     "evalue": "coef_ is only available when using a linear kernel",
     "output_type": "error",
     "traceback": [
      "\u001b[0;31m---------------------------------------------------------------------------\u001b[0m",
      "\u001b[0;31mAttributeError\u001b[0m                            Traceback (most recent call last)",
      "\u001b[0;32m<ipython-input-11-f8e54ec87570>\u001b[0m in \u001b[0;36m<module>\u001b[0;34m()\u001b[0m\n\u001b[1;32m      8\u001b[0m \u001b[0;34m\u001b[0m\u001b[0m\n\u001b[1;32m      9\u001b[0m \u001b[0;31m# Create the hyperplane\u001b[0m\u001b[0;34m\u001b[0m\u001b[0;34m\u001b[0m\u001b[0m\n\u001b[0;32m---> 10\u001b[0;31m \u001b[0mw\u001b[0m \u001b[0;34m=\u001b[0m \u001b[0mclf\u001b[0m\u001b[0;34m.\u001b[0m\u001b[0mcoef_\u001b[0m\u001b[0;34m[\u001b[0m\u001b[0;36m0\u001b[0m\u001b[0;34m]\u001b[0m\u001b[0;34m\u001b[0m\u001b[0m\n\u001b[0m\u001b[1;32m     11\u001b[0m \u001b[0ma\u001b[0m \u001b[0;34m=\u001b[0m \u001b[0;34m-\u001b[0m\u001b[0mw\u001b[0m\u001b[0;34m[\u001b[0m\u001b[0;36m0\u001b[0m\u001b[0;34m]\u001b[0m \u001b[0;34m/\u001b[0m \u001b[0mw\u001b[0m\u001b[0;34m[\u001b[0m\u001b[0;36m1\u001b[0m\u001b[0;34m]\u001b[0m\u001b[0;34m\u001b[0m\u001b[0m\n\u001b[1;32m     12\u001b[0m \u001b[0mxx\u001b[0m \u001b[0;34m=\u001b[0m \u001b[0mnp\u001b[0m\u001b[0;34m.\u001b[0m\u001b[0mlinspace\u001b[0m\u001b[0;34m(\u001b[0m\u001b[0;34m-\u001b[0m\u001b[0;36m2.5\u001b[0m\u001b[0;34m,\u001b[0m \u001b[0;36m2.5\u001b[0m\u001b[0;34m)\u001b[0m\u001b[0;34m\u001b[0m\u001b[0m\n",
      "\u001b[0;32m/anaconda2/envs/comp521/lib/python3.7/site-packages/sklearn/svm/base.py\u001b[0m in \u001b[0;36mcoef_\u001b[0;34m(self)\u001b[0m\n\u001b[1;32m    482\u001b[0m     \u001b[0;32mdef\u001b[0m \u001b[0mcoef_\u001b[0m\u001b[0;34m(\u001b[0m\u001b[0mself\u001b[0m\u001b[0;34m)\u001b[0m\u001b[0;34m:\u001b[0m\u001b[0;34m\u001b[0m\u001b[0m\n\u001b[1;32m    483\u001b[0m         \u001b[0;32mif\u001b[0m \u001b[0mself\u001b[0m\u001b[0;34m.\u001b[0m\u001b[0mkernel\u001b[0m \u001b[0;34m!=\u001b[0m \u001b[0;34m'linear'\u001b[0m\u001b[0;34m:\u001b[0m\u001b[0;34m\u001b[0m\u001b[0m\n\u001b[0;32m--> 484\u001b[0;31m             raise AttributeError('coef_ is only available when using a '\n\u001b[0m\u001b[1;32m    485\u001b[0m                                  'linear kernel')\n\u001b[1;32m    486\u001b[0m \u001b[0;34m\u001b[0m\u001b[0m\n",
      "\u001b[0;31mAttributeError\u001b[0m: coef_ is only available when using a linear kernel"
     ]
    },
    {
     "data": {
      "image/png": "[encoded data removed]",
      "text/plain": [
       "<Figure size 432x288 with 1 Axes>"
      ]
     },
     "metadata": {
      "needs_background": "light"
     },
     "output_type": "display_data"
    }
   ],
   "source": [
    "clf = svm.SVC()\n",
    "clf.fit(X_train, y_train)\n",
    "pred_clf  = clf.predict(X_test)\n",
    "\n",
    "# Plot data points and color using their class\n",
    "color = ['black' if c == 0 else 'lightgrey' for c in y_train]\n",
    "plt.scatter(X_train[:,0], X_train[:,1], c=color)\n",
    "\n",
    "# Create the hyperplane\n",
    "w = clf.coef_[0]\n",
    "a = -w[0] / w[1]\n",
    "xx = np.linspace(-2.5, 2.5)\n",
    "yy = a * xx - (clf.intercept_[0]) / w[1]\n",
    "\n",
    "# Plot the hyperplane\n",
    "plt.plot(xx, yy)\n",
    "plt.axis(\"off\"), plt.show();\n"
   ]
  },
  {
   "cell_type": "code",
   "execution_count": null,
   "metadata": {},
   "outputs": [],
   "source": [
    "#Performance of Model\n",
    "print(classification_report(y_test, pred_clf))\n",
    "print(confusion_matrix(y_test, pred_clf))\n",
    "\n"
   ]
  },
  {
   "cell_type": "markdown",
   "metadata": {},
   "source": [
    "# Neural Network"
   ]
  },
  {
   "cell_type": "code",
   "execution_count": 12,
   "metadata": {},
   "outputs": [],
   "source": [
    "mlpc = MLPClassifier(hidden_layer_sizes=(18,18,18), max_iter=500)\n",
    "mlpc.fit(X_train, y_train)\n",
    "pred_mlpc = mlpc.predict(X_test)"
   ]
  },
  {
   "cell_type": "code",
   "execution_count": 13,
   "metadata": {},
   "outputs": [
    {
     "name": "stdout",
     "output_type": "stream",
     "text": [
      "              precision    recall  f1-score   support\n",
      "\n",
      "         1.0       0.81      0.76      0.79        17\n",
      "         2.0       0.73      0.80      0.76        20\n",
      "         3.0       0.60      0.75      0.67        12\n",
      "         4.0       0.79      0.68      0.73        22\n",
      "         5.0       0.77      0.71      0.74        14\n",
      "\n",
      "   micro avg       0.74      0.74      0.74        85\n",
      "   macro avg       0.74      0.74      0.74        85\n",
      "weighted avg       0.75      0.74      0.74        85\n",
      "\n",
      "[[13  4  0  0  0]\n",
      " [ 3 16  1  0  0]\n",
      " [ 0  2  9  1  0]\n",
      " [ 0  0  4 15  3]\n",
      " [ 0  0  1  3 10]]\n"
     ]
    }
   ],
   "source": [
    "print(classification_report(y_test, pred_mlpc))\n",
    "print(confusion_matrix (y_test, pred_mlpc))"
   ]
  },
  {
   "cell_type": "markdown",
   "metadata": {},
   "source": [
    "# Accuracy of Models"
   ]
  },
  {
   "cell_type": "code",
   "execution_count": 14,
   "metadata": {},
   "outputs": [
    {
     "data": {
      "text/plain": [
       "(0.6, 0.7176470588235294, 0.7411764705882353)"
      ]
     },
     "execution_count": 14,
     "metadata": {},
     "output_type": "execute_result"
    }
   ],
   "source": [
    "from sklearn.metrics import accuracy_score\n",
    "cm = accuracy_score(y_test, pred_rfc)\n",
    "mm = accuracy_score(y_test, pred_clf)\n",
    "nm = accuracy_score(y_test, pred_mlpc)\n",
    "cm, mm, nm"
   ]
  },
  {
   "cell_type": "code",
   "execution_count": null,
   "metadata": {
    "collapsed": true
   },
   "outputs": [],
   "source": []
  },
  {
   "cell_type": "code",
   "execution_count": null,
   "metadata": {
    "collapsed": true
   },
   "outputs": [],
   "source": []
  }
 ],
 "metadata": {
  "kernelspec": {
   "display_name": "Python 3",
   "language": "python",
   "name": "python3"
  },
  "language_info": {
   "codemirror_mode": {
    "name": "ipython",
    "version": 3
   },
   "file_extension": ".py",
   "mimetype": "text/x-python",
   "name": "python",
   "nbconvert_exporter": "python",
   "pygments_lexer": "ipython3",
   "version": "3.7.0"
  }
 },
 "nbformat": 4,
 "nbformat_minor": 2
}
